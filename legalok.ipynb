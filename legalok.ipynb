{
 "cells": [
  {
   "cell_type": "code",
   "execution_count": 4,
   "metadata": {},
   "outputs": [
    {
     "name": "stdout",
     "output_type": "stream",
     "text": [
      "165\n"
     ]
    }
   ],
   "source": [
    "\n",
    "import glob, os, shutil\n",
    "\n",
    "import os,glob\n",
    "data_path = os.path.join(r'/home/dev2/1tb/SANJANA/manually_validated','*.png')\n",
    "files = glob.glob(data_path)\n",
    "data=[]\n",
    "docxnope=[]\n",
    "print(len(files))\n",
    "for f1 in files:\n",
    "    data.append(f1)\n",
    "    \n",
    "import pandas as pd\n",
    "df = pd.DataFrame(columns=['file_name'])\n",
    "df['file_name']=data\n",
    "df.to_excel(r'/home/dev2/1tb/SANJANA/manually_validated/file_name_manual.xlsx')\n"
   ]
  },
  {
   "cell_type": "code",
   "execution_count": null,
   "metadata": {},
   "outputs": [],
   "source": []
  }
 ],
 "metadata": {
  "kernelspec": {
   "display_name": "Python 3",
   "language": "python",
   "name": "python3"
  },
  "language_info": {
   "codemirror_mode": {
    "name": "ipython",
    "version": 3
   },
   "file_extension": ".py",
   "mimetype": "text/x-python",
   "name": "python",
   "nbconvert_exporter": "python",
   "pygments_lexer": "ipython3",
   "version": "3.6.8"
  }
 },
 "nbformat": 4,
 "nbformat_minor": 4
}
